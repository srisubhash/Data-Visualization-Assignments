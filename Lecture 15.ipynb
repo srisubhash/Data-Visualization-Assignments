{
 "cells": [
  {
   "cell_type": "markdown",
   "id": "51df1cde",
   "metadata": {},
   "source": [
    "# Seaborn Part 2\n",
    "\n",
    "COMP 4304 / 6934\\\n",
    "Terrence Tricco\n",
    "\n",
    "Seaborn provides a high-level interface for creating Matplotlib plots.\n",
    "\n",
    "Our learning objectives for this notebook are to become familiar with Seaborn's functions for creating bar, box and violin plots and histograms. We will look at a mix of relational and distribution plots.\n",
    "- ``barplot()``\n",
    "- ``countplot()``\n",
    "- ``histplot()``\n",
    "- ``boxplot()``\n",
    "- ``violinplot()``\n",
    "\n",
    "We will also introoduce Seaborn's colour palette system.\n",
    "\n",
    "\n",
    "\n",
    "Seaborn has excellent API documentation and tutorials: https://seaborn.pydata.org/\n"
   ]
  },
  {
   "cell_type": "markdown",
   "id": "6bb97c6d",
   "metadata": {},
   "source": [
    "## Import Libraries\n",
    "\n",
    "Seaborn is commonly loaded with the name ``sns``."
   ]
  },
  {
   "cell_type": "code",
   "execution_count": 3,
   "id": "eb423a31",
   "metadata": {},
   "outputs": [],
   "source": [
    "import pandas as pd\n",
    "import matplotlib.pyplot as plt\n",
    "\n",
    "import seaborn as sns"
   ]
  },
  {
   "cell_type": "markdown",
   "id": "dc199279",
   "metadata": {},
   "source": [
    "## Load Data"
   ]
  },
  {
   "cell_type": "markdown",
   "id": "b048374d",
   "metadata": {},
   "source": [
    "We will work with the data set of trending YouTube videos that we have used several times in previous lectures."
   ]
  },
  {
   "cell_type": "code",
   "execution_count": 7,
   "id": "31047df9",
   "metadata": {},
   "outputs": [
    {
     "ename": "ParserError",
     "evalue": "Error tokenizing data. C error: EOF inside string starting at row 37895",
     "output_type": "error",
     "traceback": [
      "\u001b[1;31m---------------------------------------------------------------------------\u001b[0m",
      "\u001b[1;31mParserError\u001b[0m                               Traceback (most recent call last)",
      "Cell \u001b[1;32mIn[7], line 1\u001b[0m\n\u001b[1;32m----> 1\u001b[0m df \u001b[38;5;241m=\u001b[39m \u001b[43mpd\u001b[49m\u001b[38;5;241;43m.\u001b[39;49m\u001b[43mread_csv\u001b[49m\u001b[43m(\u001b[49m\u001b[38;5;124;43m'\u001b[39;49m\u001b[38;5;124;43mCA_videos.csv\u001b[39;49m\u001b[38;5;124;43m'\u001b[39;49m\u001b[43m,\u001b[49m\u001b[43m \u001b[49m\u001b[43mparse_dates\u001b[49m\u001b[38;5;241;43m=\u001b[39;49m\u001b[43m[\u001b[49m\u001b[38;5;124;43m'\u001b[39;49m\u001b[38;5;124;43mtrending_date\u001b[39;49m\u001b[38;5;124;43m'\u001b[39;49m\u001b[43m,\u001b[49m\u001b[43m \u001b[49m\u001b[38;5;124;43m'\u001b[39;49m\u001b[38;5;124;43mpublish_time\u001b[39;49m\u001b[38;5;124;43m'\u001b[39;49m\u001b[43m]\u001b[49m\u001b[43m)\u001b[49m\n",
      "File \u001b[1;32mc:\\Users\\sri subhash\\AppData\\Local\\Programs\\Python\\Python311\\Lib\\site-packages\\pandas\\util\\_decorators.py:211\u001b[0m, in \u001b[0;36mdeprecate_kwarg.<locals>._deprecate_kwarg.<locals>.wrapper\u001b[1;34m(*args, **kwargs)\u001b[0m\n\u001b[0;32m    209\u001b[0m     \u001b[38;5;28;01melse\u001b[39;00m:\n\u001b[0;32m    210\u001b[0m         kwargs[new_arg_name] \u001b[38;5;241m=\u001b[39m new_arg_value\n\u001b[1;32m--> 211\u001b[0m \u001b[38;5;28;01mreturn\u001b[39;00m \u001b[43mfunc\u001b[49m\u001b[43m(\u001b[49m\u001b[38;5;241;43m*\u001b[39;49m\u001b[43margs\u001b[49m\u001b[43m,\u001b[49m\u001b[43m \u001b[49m\u001b[38;5;241;43m*\u001b[39;49m\u001b[38;5;241;43m*\u001b[39;49m\u001b[43mkwargs\u001b[49m\u001b[43m)\u001b[49m\n",
      "File \u001b[1;32mc:\\Users\\sri subhash\\AppData\\Local\\Programs\\Python\\Python311\\Lib\\site-packages\\pandas\\util\\_decorators.py:331\u001b[0m, in \u001b[0;36mdeprecate_nonkeyword_arguments.<locals>.decorate.<locals>.wrapper\u001b[1;34m(*args, **kwargs)\u001b[0m\n\u001b[0;32m    325\u001b[0m \u001b[38;5;28;01mif\u001b[39;00m \u001b[38;5;28mlen\u001b[39m(args) \u001b[38;5;241m>\u001b[39m num_allow_args:\n\u001b[0;32m    326\u001b[0m     warnings\u001b[38;5;241m.\u001b[39mwarn(\n\u001b[0;32m    327\u001b[0m         msg\u001b[38;5;241m.\u001b[39mformat(arguments\u001b[38;5;241m=\u001b[39m_format_argument_list(allow_args)),\n\u001b[0;32m    328\u001b[0m         \u001b[38;5;167;01mFutureWarning\u001b[39;00m,\n\u001b[0;32m    329\u001b[0m         stacklevel\u001b[38;5;241m=\u001b[39mfind_stack_level(),\n\u001b[0;32m    330\u001b[0m     )\n\u001b[1;32m--> 331\u001b[0m \u001b[38;5;28;01mreturn\u001b[39;00m \u001b[43mfunc\u001b[49m\u001b[43m(\u001b[49m\u001b[38;5;241;43m*\u001b[39;49m\u001b[43margs\u001b[49m\u001b[43m,\u001b[49m\u001b[43m \u001b[49m\u001b[38;5;241;43m*\u001b[39;49m\u001b[38;5;241;43m*\u001b[39;49m\u001b[43mkwargs\u001b[49m\u001b[43m)\u001b[49m\n",
      "File \u001b[1;32mc:\\Users\\sri subhash\\AppData\\Local\\Programs\\Python\\Python311\\Lib\\site-packages\\pandas\\io\\parsers\\readers.py:950\u001b[0m, in \u001b[0;36mread_csv\u001b[1;34m(filepath_or_buffer, sep, delimiter, header, names, index_col, usecols, squeeze, prefix, mangle_dupe_cols, dtype, engine, converters, true_values, false_values, skipinitialspace, skiprows, skipfooter, nrows, na_values, keep_default_na, na_filter, verbose, skip_blank_lines, parse_dates, infer_datetime_format, keep_date_col, date_parser, dayfirst, cache_dates, iterator, chunksize, compression, thousands, decimal, lineterminator, quotechar, quoting, doublequote, escapechar, comment, encoding, encoding_errors, dialect, error_bad_lines, warn_bad_lines, on_bad_lines, delim_whitespace, low_memory, memory_map, float_precision, storage_options)\u001b[0m\n\u001b[0;32m    935\u001b[0m kwds_defaults \u001b[38;5;241m=\u001b[39m _refine_defaults_read(\n\u001b[0;32m    936\u001b[0m     dialect,\n\u001b[0;32m    937\u001b[0m     delimiter,\n\u001b[1;32m   (...)\u001b[0m\n\u001b[0;32m    946\u001b[0m     defaults\u001b[38;5;241m=\u001b[39m{\u001b[38;5;124m\"\u001b[39m\u001b[38;5;124mdelimiter\u001b[39m\u001b[38;5;124m\"\u001b[39m: \u001b[38;5;124m\"\u001b[39m\u001b[38;5;124m,\u001b[39m\u001b[38;5;124m\"\u001b[39m},\n\u001b[0;32m    947\u001b[0m )\n\u001b[0;32m    948\u001b[0m kwds\u001b[38;5;241m.\u001b[39mupdate(kwds_defaults)\n\u001b[1;32m--> 950\u001b[0m \u001b[38;5;28;01mreturn\u001b[39;00m \u001b[43m_read\u001b[49m\u001b[43m(\u001b[49m\u001b[43mfilepath_or_buffer\u001b[49m\u001b[43m,\u001b[49m\u001b[43m \u001b[49m\u001b[43mkwds\u001b[49m\u001b[43m)\u001b[49m\n",
      "File \u001b[1;32mc:\\Users\\sri subhash\\AppData\\Local\\Programs\\Python\\Python311\\Lib\\site-packages\\pandas\\io\\parsers\\readers.py:611\u001b[0m, in \u001b[0;36m_read\u001b[1;34m(filepath_or_buffer, kwds)\u001b[0m\n\u001b[0;32m    608\u001b[0m     \u001b[38;5;28;01mreturn\u001b[39;00m parser\n\u001b[0;32m    610\u001b[0m \u001b[38;5;28;01mwith\u001b[39;00m parser:\n\u001b[1;32m--> 611\u001b[0m     \u001b[38;5;28;01mreturn\u001b[39;00m \u001b[43mparser\u001b[49m\u001b[38;5;241;43m.\u001b[39;49m\u001b[43mread\u001b[49m\u001b[43m(\u001b[49m\u001b[43mnrows\u001b[49m\u001b[43m)\u001b[49m\n",
      "File \u001b[1;32mc:\\Users\\sri subhash\\AppData\\Local\\Programs\\Python\\Python311\\Lib\\site-packages\\pandas\\io\\parsers\\readers.py:1778\u001b[0m, in \u001b[0;36mTextFileReader.read\u001b[1;34m(self, nrows)\u001b[0m\n\u001b[0;32m   1771\u001b[0m nrows \u001b[38;5;241m=\u001b[39m validate_integer(\u001b[38;5;124m\"\u001b[39m\u001b[38;5;124mnrows\u001b[39m\u001b[38;5;124m\"\u001b[39m, nrows)\n\u001b[0;32m   1772\u001b[0m \u001b[38;5;28;01mtry\u001b[39;00m:\n\u001b[0;32m   1773\u001b[0m     \u001b[38;5;66;03m# error: \"ParserBase\" has no attribute \"read\"\u001b[39;00m\n\u001b[0;32m   1774\u001b[0m     (\n\u001b[0;32m   1775\u001b[0m         index,\n\u001b[0;32m   1776\u001b[0m         columns,\n\u001b[0;32m   1777\u001b[0m         col_dict,\n\u001b[1;32m-> 1778\u001b[0m     ) \u001b[38;5;241m=\u001b[39m \u001b[38;5;28;43mself\u001b[39;49m\u001b[38;5;241;43m.\u001b[39;49m\u001b[43m_engine\u001b[49m\u001b[38;5;241;43m.\u001b[39;49m\u001b[43mread\u001b[49m\u001b[43m(\u001b[49m\u001b[43m  \u001b[49m\u001b[38;5;66;43;03m# type: ignore[attr-defined]\u001b[39;49;00m\n\u001b[0;32m   1779\u001b[0m \u001b[43m        \u001b[49m\u001b[43mnrows\u001b[49m\n\u001b[0;32m   1780\u001b[0m \u001b[43m    \u001b[49m\u001b[43m)\u001b[49m\n\u001b[0;32m   1781\u001b[0m \u001b[38;5;28;01mexcept\u001b[39;00m \u001b[38;5;167;01mException\u001b[39;00m:\n\u001b[0;32m   1782\u001b[0m     \u001b[38;5;28mself\u001b[39m\u001b[38;5;241m.\u001b[39mclose()\n",
      "File \u001b[1;32mc:\\Users\\sri subhash\\AppData\\Local\\Programs\\Python\\Python311\\Lib\\site-packages\\pandas\\io\\parsers\\c_parser_wrapper.py:230\u001b[0m, in \u001b[0;36mCParserWrapper.read\u001b[1;34m(self, nrows)\u001b[0m\n\u001b[0;32m    228\u001b[0m \u001b[38;5;28;01mtry\u001b[39;00m:\n\u001b[0;32m    229\u001b[0m     \u001b[38;5;28;01mif\u001b[39;00m \u001b[38;5;28mself\u001b[39m\u001b[38;5;241m.\u001b[39mlow_memory:\n\u001b[1;32m--> 230\u001b[0m         chunks \u001b[38;5;241m=\u001b[39m \u001b[38;5;28;43mself\u001b[39;49m\u001b[38;5;241;43m.\u001b[39;49m\u001b[43m_reader\u001b[49m\u001b[38;5;241;43m.\u001b[39;49m\u001b[43mread_low_memory\u001b[49m\u001b[43m(\u001b[49m\u001b[43mnrows\u001b[49m\u001b[43m)\u001b[49m\n\u001b[0;32m    231\u001b[0m         \u001b[38;5;66;03m# destructive to chunks\u001b[39;00m\n\u001b[0;32m    232\u001b[0m         data \u001b[38;5;241m=\u001b[39m _concatenate_chunks(chunks)\n",
      "File \u001b[1;32mc:\\Users\\sri subhash\\AppData\\Local\\Programs\\Python\\Python311\\Lib\\site-packages\\pandas\\_libs\\parsers.pyx:808\u001b[0m, in \u001b[0;36mpandas._libs.parsers.TextReader.read_low_memory\u001b[1;34m()\u001b[0m\n",
      "File \u001b[1;32mc:\\Users\\sri subhash\\AppData\\Local\\Programs\\Python\\Python311\\Lib\\site-packages\\pandas\\_libs\\parsers.pyx:866\u001b[0m, in \u001b[0;36mpandas._libs.parsers.TextReader._read_rows\u001b[1;34m()\u001b[0m\n",
      "File \u001b[1;32mc:\\Users\\sri subhash\\AppData\\Local\\Programs\\Python\\Python311\\Lib\\site-packages\\pandas\\_libs\\parsers.pyx:852\u001b[0m, in \u001b[0;36mpandas._libs.parsers.TextReader._tokenize_rows\u001b[1;34m()\u001b[0m\n",
      "File \u001b[1;32mc:\\Users\\sri subhash\\AppData\\Local\\Programs\\Python\\Python311\\Lib\\site-packages\\pandas\\_libs\\parsers.pyx:1973\u001b[0m, in \u001b[0;36mpandas._libs.parsers.raise_parser_error\u001b[1;34m()\u001b[0m\n",
      "\u001b[1;31mParserError\u001b[0m: Error tokenizing data. C error: EOF inside string starting at row 37895"
     ]
    }
   ],
   "source": [
    "df = pd.read_csv('CA_videos.csv', parse_dates=['trending_date', 'publish_time'])"
   ]
  },
  {
   "cell_type": "code",
   "execution_count": 5,
   "id": "30aa71af",
   "metadata": {},
   "outputs": [
    {
     "ename": "NameError",
     "evalue": "name 'df' is not defined",
     "output_type": "error",
     "traceback": [
      "\u001b[1;31m---------------------------------------------------------------------------\u001b[0m",
      "\u001b[1;31mNameError\u001b[0m                                 Traceback (most recent call last)",
      "Cell \u001b[1;32mIn[5], line 1\u001b[0m\n\u001b[1;32m----> 1\u001b[0m df[\u001b[38;5;124m'\u001b[39m\u001b[38;5;124mtrending_month\u001b[39m\u001b[38;5;124m'\u001b[39m] \u001b[38;5;241m=\u001b[39m \u001b[43mdf\u001b[49m\u001b[38;5;241m.\u001b[39mtrending_date\u001b[38;5;241m.\u001b[39mdt\u001b[38;5;241m.\u001b[39mmonth\n",
      "\u001b[1;31mNameError\u001b[0m: name 'df' is not defined"
     ]
    }
   ],
   "source": [
    "df['trending_month'] = df.trending_date.dt.month"
   ]
  },
  {
   "cell_type": "code",
   "execution_count": null,
   "id": "0fc71780",
   "metadata": {},
   "outputs": [],
   "source": [
    "df['trending_quarter'] = df.trending_date.dt.quarter"
   ]
  },
  {
   "cell_type": "markdown",
   "id": "4fc53ac3",
   "metadata": {},
   "source": [
    "We will find the top 4 channels based on number of trending videos and filter our data set to just those channels."
   ]
  },
  {
   "cell_type": "code",
   "execution_count": null,
   "id": "716d66b0",
   "metadata": {},
   "outputs": [],
   "source": [
    "top4_channels = df[['video_id', 'channel_title']].groupby('channel_title').nunique().reset_index().sort_values(by='video_id', ascending=False).head(4).channel_title"
   ]
  },
  {
   "cell_type": "code",
   "execution_count": null,
   "id": "2fe58216",
   "metadata": {
    "scrolled": false
   },
   "outputs": [],
   "source": [
    "top4_channels"
   ]
  },
  {
   "cell_type": "code",
   "execution_count": null,
   "id": "48449554",
   "metadata": {},
   "outputs": [],
   "source": [
    "df = df[df.channel_title.isin(top4_channels)]"
   ]
  },
  {
   "cell_type": "markdown",
   "id": "255f9aae",
   "metadata": {},
   "source": [
    "## Bar Plots\n",
    "\n",
    "Let's investigate the top channel, NBA.\n",
    "\n",
    "We can make a bar plot, using ``barplot()``, that shows the average number of views per month. With Matplotlib, we would have had to create that data (average views per month) ourselves using groupby. As we saw with lineplot, Seaborn will do that work for us."
   ]
  },
  {
   "cell_type": "code",
   "execution_count": null,
   "id": "5fcd95ab",
   "metadata": {},
   "outputs": [],
   "source": [
    "df_nba = df[df.channel_title == 'NBA']"
   ]
  },
  {
   "cell_type": "code",
   "execution_count": null,
   "id": "65016321",
   "metadata": {},
   "outputs": [],
   "source": [
    "sns.barplot(x='trending_month', y='views', data=df_nba)"
   ]
  },
  {
   "cell_type": "markdown",
   "id": "9ca555b9",
   "metadata": {},
   "source": [
    "The height of each bar represents the average number of views for videos in that month. Just like with ``lineplot()``, the error bars reflect the 95% confidence interval for the average. "
   ]
  },
  {
   "cell_type": "markdown",
   "id": "f8f40558",
   "metadata": {},
   "source": [
    "Bar plots are often used to show the number of items in a category. Seaborn offers a specific function for that - ``countplot()``.\n",
    "\n",
    "Let's make a plot that shows the number of videos that went trending each month for VikatanTV."
   ]
  },
  {
   "cell_type": "code",
   "execution_count": null,
   "id": "ab6b6221",
   "metadata": {
    "scrolled": false
   },
   "outputs": [],
   "source": [
    "sns.countplot(x='trending_month', data=df_nba)"
   ]
  },
  {
   "cell_type": "markdown",
   "id": "8853b7f3",
   "metadata": {},
   "source": [
    "Notice that ``countplot()`` has done the work for us of calculating the number of items in each category (the categories are the months, in this case)."
   ]
  },
  {
   "cell_type": "markdown",
   "id": "3c777f8b",
   "metadata": {},
   "source": [
    "``barplot()`` and ``countplot()`` can also work with multiple categories at a time. For example, let's create the previous bar plot showing average views per month, but for two of the top channels. We can represent them in our plot by using the ``hue=`` parameter."
   ]
  },
  {
   "cell_type": "code",
   "execution_count": null,
   "id": "e77900c8",
   "metadata": {},
   "outputs": [],
   "source": [
    "df_two = df[df.channel_title.isin(['NBA', 'FORMULA 1'])]"
   ]
  },
  {
   "cell_type": "code",
   "execution_count": null,
   "id": "5faae6ee",
   "metadata": {
    "scrolled": false
   },
   "outputs": [],
   "source": [
    "sns.barplot(x='trending_month', y='views', data=df_two, hue='channel_title')"
   ]
  },
  {
   "cell_type": "markdown",
   "id": "c8860048",
   "metadata": {},
   "source": [
    "Also notice how Seaborn has changed the colour scheme to something sensible. We will discuss Seaborn's colour options further below.\n",
    "\n",
    "We coud also represent all 4 top channels."
   ]
  },
  {
   "cell_type": "code",
   "execution_count": null,
   "id": "4e59dcfb",
   "metadata": {
    "scrolled": false
   },
   "outputs": [],
   "source": [
    "sns.barplot(x='trending_month', y='views', data=df, hue='channel_title')"
   ]
  },
  {
   "cell_type": "markdown",
   "id": "9a4f5385",
   "metadata": {},
   "source": [
    "This shows exactly the same information as the line plot. The average number of views for all 4 channels are present, and the error bars for the averages are included."
   ]
  },
  {
   "cell_type": "code",
   "execution_count": null,
   "id": "ff2adb09",
   "metadata": {},
   "outputs": [],
   "source": [
    "fig, ax = plt.subplots()\n",
    "\n",
    "sns.lineplot(x='trending_month', y='views', data=df, hue='channel_title', ax=ax)"
   ]
  },
  {
   "cell_type": "markdown",
   "id": "11f6b2bb",
   "metadata": {},
   "source": [
    "Which is the better representation? Is there an advantage of one over the other?\n",
    "\n",
    "In my opinion, the line plot is more clear than the bar plot and is easier to perceive and interpret. The bar plot has a lot of visual complexity, and it is different to follow the trend of one channel. The bar plot is cluttered with so many bars. It may be best for comparing channels for only one month, not across many months. \n",
    "\n",
    "The line plot does a much better job at showing how the average views change month over month, and the shading for the error bars are much more intuitive."
   ]
  },
  {
   "cell_type": "markdown",
   "id": "c963ae39",
   "metadata": {},
   "source": [
    "# Seaborn Distribution Plots\n",
    "\n",
    "Seaborn offers a variety of plot types for distributions, some of which we have previously studied and some new.\n",
    "\n",
    "The distribution of a quantitative variable is its spread of values."
   ]
  },
  {
   "cell_type": "markdown",
   "id": "ae1dbb6a",
   "metadata": {},
   "source": [
    "## Histograms\n",
    "\n",
    "Histograms show one distribution at a time. This is different than box or violin plots which show multiple distributions at once.\n",
    "\n",
    "In this example, the histogram is the distribution of views for all videos for the NBA."
   ]
  },
  {
   "cell_type": "code",
   "execution_count": null,
   "id": "4afda383",
   "metadata": {},
   "outputs": [],
   "source": [
    "sns.histplot(x='views', data=df_nba)"
   ]
  },
  {
   "cell_type": "markdown",
   "id": "813ecb07",
   "metadata": {},
   "source": [
    "By default, the histogram is the count of items in each bin. This can be changed using the ``stat=`` parameter, which takes the following values:\n",
    "    \n",
    "- **count:** show the number of observations in each bin\n",
    "- **frequency:** show the number of observations divided by the bin width\n",
    "- **probability:** or proportion: normalize such that bar heights sum to 1\n",
    "- **percent:** normalize such that bar heights sum to 100\n",
    "- **density:** normalize such that the total area of the histogram equals 1"
   ]
  },
  {
   "cell_type": "code",
   "execution_count": null,
   "id": "c820add4",
   "metadata": {},
   "outputs": [],
   "source": [
    "sns.histplot(x='views', data=df_nba, stat='percent')"
   ]
  },
  {
   "cell_type": "markdown",
   "id": "2e591c75",
   "metadata": {},
   "source": [
    "Visually, the shape of the distribution is the same -- it is the quantitative scale on the y-axis that is different."
   ]
  },
  {
   "cell_type": "markdown",
   "id": "17778de8",
   "metadata": {},
   "source": [
    "The bin sizes have been automatically set in the preceding examples. Using the ``bins=`` parameter, there are a number of built-in ways to automatically create the bins, or the number of bins can be specified, or a list of bin edges can be used."
   ]
  },
  {
   "cell_type": "code",
   "execution_count": null,
   "id": "745c1bae",
   "metadata": {},
   "outputs": [],
   "source": [
    "sns.histplot(x='views', data=df_nba, bins=40)"
   ]
  },
  {
   "cell_type": "markdown",
   "id": "63111004",
   "metadata": {},
   "source": [
    "Multiple distributions can be plotted at once using the ``hue=`` parameter. In this case, let's plot the distribution for category of videos."
   ]
  },
  {
   "cell_type": "code",
   "execution_count": null,
   "id": "6129cd0b",
   "metadata": {},
   "outputs": [],
   "source": [
    "sns.histplot(x='views', data=df_two, hue='channel_title', bins=40)"
   ]
  },
  {
   "cell_type": "markdown",
   "id": "bbeb7abf",
   "metadata": {},
   "source": [
    "By default, the two histograms are layered on top of each other. You can specify to Seaborn how multiple distributions should be handled by the ``multiple=`` keyword, which accepts either ``layer`` (default), ``stack``, ``dodge`` or ``fill``."
   ]
  },
  {
   "cell_type": "code",
   "execution_count": null,
   "id": "bbc7581f",
   "metadata": {},
   "outputs": [],
   "source": [
    "sns.histplot(x='views', data=df_two, hue='channel_title', bins=40, multiple='stack')"
   ]
  },
  {
   "cell_type": "markdown",
   "id": "496dfdc9",
   "metadata": {},
   "source": [
    "## Box Plots\n",
    "\n",
    "Box plots show the median, inter-quartile range (IQR) and extended points that are outliers to the distribution.\n",
    "\n",
    "The box plot below shows the distribution of views for the videos corresponding to that month. Unlike histograms, which are ideal for studying a single distribution, box plots are excellent for comparing distributions to one another."
   ]
  },
  {
   "cell_type": "code",
   "execution_count": null,
   "id": "30461f44",
   "metadata": {
    "scrolled": false
   },
   "outputs": [],
   "source": [
    "sns.boxplot(x='trending_month', y='views', data=df_nba)"
   ]
  },
  {
   "cell_type": "markdown",
   "id": "65b5cba4",
   "metadata": {},
   "source": [
    "We can see that February has a wide range, and that March and December have very narrow distriutions. We can connect these two months to the `countplot()` we made earlier, where we found that these months have the smallest number of trending videos."
   ]
  },
  {
   "cell_type": "markdown",
   "id": "8eb45ef1",
   "metadata": {},
   "source": [
    "We can also add nested grouping to our box plot. Let's plot the view distribution per month, but use two categories for the two channels we investigated earlier."
   ]
  },
  {
   "cell_type": "code",
   "execution_count": null,
   "id": "fb98c90d",
   "metadata": {
    "scrolled": false
   },
   "outputs": [],
   "source": [
    "sns.boxplot(x='trending_month', y='views', data=df_two, hue='channel_title')"
   ]
  },
  {
   "cell_type": "markdown",
   "id": "4ba8565a",
   "metadata": {},
   "source": [
    "Each month now shows two box plots -- one for the NBA and the second for Formula 1."
   ]
  },
  {
   "cell_type": "markdown",
   "id": "2e86311b",
   "metadata": {},
   "source": [
    "## Violin Plots\n",
    "\n",
    "We can represent the same plots using violin plots.\n",
    "\n",
    "First is the distribution of views per month."
   ]
  },
  {
   "cell_type": "code",
   "execution_count": null,
   "id": "9f2e0ed8",
   "metadata": {},
   "outputs": [],
   "source": [
    "sns.violinplot(x='trending_quarter', y='views', data=df_nba)"
   ]
  },
  {
   "cell_type": "markdown",
   "id": "2e62e294",
   "metadata": {},
   "source": [
    "The width of the violins can be set using ``density_norm=``.\n",
    "- ``area``: each violin will have the same area. \n",
    "- ``count``: the width of the violins will be scaled by the number of observations in that bin. \n",
    "- ``width``: each violin will have the same width."
   ]
  },
  {
   "cell_type": "code",
   "execution_count": null,
   "id": "6138a8e7",
   "metadata": {},
   "outputs": [],
   "source": [
    "sns.violinplot(x='trending_quarter', y='views', data=df_nba, density_norm='count')"
   ]
  },
  {
   "cell_type": "markdown",
   "id": "31b241d4",
   "metadata": {},
   "source": [
    "The interior of the violin has a miniature box plot overlaid on it."
   ]
  },
  {
   "cell_type": "markdown",
   "id": "37dc99eb",
   "metadata": {},
   "source": [
    "The mini box plot can be changed to lines at the position of the quartiles instead with the ``inner=`` parameter. In effect, this combines the best elements of the box plot and violin plot together."
   ]
  },
  {
   "cell_type": "code",
   "execution_count": null,
   "id": "0e18323e",
   "metadata": {},
   "outputs": [],
   "source": [
    "sns.violinplot(x='trending_quarter', y='views', data=df_nba, density_norm='count', inner='quartiles')"
   ]
  },
  {
   "cell_type": "markdown",
   "id": "ca2f6905",
   "metadata": {},
   "source": [
    "We can create the second box plot in the previous section also by using the ``hue=`` parameter."
   ]
  },
  {
   "cell_type": "code",
   "execution_count": null,
   "id": "d63d7cf4",
   "metadata": {},
   "outputs": [],
   "source": [
    "sns.violinplot(x='trending_quarter', y='views', data=df_nba)"
   ]
  },
  {
   "cell_type": "markdown",
   "id": "afb476c8",
   "metadata": {},
   "source": [
    "This is much easier to create than with Matplotlib!"
   ]
  },
  {
   "cell_type": "markdown",
   "id": "606fed32",
   "metadata": {},
   "source": [
    "One option that may work well in some cases is to use ``split=True|False``. Rather than drawing the two violins side-by-side, they are drawn as two halves of a single violin."
   ]
  },
  {
   "cell_type": "code",
   "execution_count": null,
   "id": "31ba1574",
   "metadata": {},
   "outputs": [],
   "source": [
    "sns.violinplot(x='trending_quarter', y='views', data=df_two, hue='channel_title', split=True)"
   ]
  },
  {
   "cell_type": "markdown",
   "id": "473453ca",
   "metadata": {},
   "source": [
    "Overall, violin plots created through Seaborn are actually useful and easy to work with, unlike Matplotlib."
   ]
  },
  {
   "cell_type": "markdown",
   "id": "147ff6c4",
   "metadata": {},
   "source": [
    "## Colour\n",
    "\n",
    "We have not specified any colour choices thus far, and instead have relied on Seaborn to choose colours on its own.\n",
    "\n",
    "There are a number of colour palettes available with Seaborn. The current palette can be obtained with ``sns.color_palette()``."
   ]
  },
  {
   "cell_type": "code",
   "execution_count": null,
   "id": "5579d46d",
   "metadata": {},
   "outputs": [],
   "source": [
    "sns.color_palette()"
   ]
  },
  {
   "cell_type": "markdown",
   "id": "a27417ea",
   "metadata": {},
   "source": [
    "To set a palette, the ``sns.set_palette()`` function can be used. Palettes can often be specified in plot function calls, as well, and individual colours specified, if that fine-grain customization is needed."
   ]
  },
  {
   "cell_type": "code",
   "execution_count": null,
   "id": "c2caf9ff",
   "metadata": {},
   "outputs": [],
   "source": [
    "sns.set_palette(\"Set3\")"
   ]
  },
  {
   "cell_type": "code",
   "execution_count": null,
   "id": "9f85be93",
   "metadata": {},
   "outputs": [],
   "source": [
    "palette = sns.color_palette()"
   ]
  },
  {
   "cell_type": "code",
   "execution_count": null,
   "id": "ff26f743",
   "metadata": {},
   "outputs": [],
   "source": [
    "palette"
   ]
  },
  {
   "cell_type": "markdown",
   "id": "6f5efd35",
   "metadata": {},
   "source": [
    "There are many options."
   ]
  },
  {
   "cell_type": "markdown",
   "id": "558d8a34",
   "metadata": {},
   "source": [
    "The latest versions of Seaborn have changed how palettes are used. Previously, plots would use the palette set globally be `set_palette()`. This does not seem to be the case anymore. Instead, Seaborn advises the following."
   ]
  },
  {
   "cell_type": "code",
   "execution_count": null,
   "id": "9c6961b3",
   "metadata": {
    "scrolled": false
   },
   "outputs": [],
   "source": [
    "sns.set_palette(\"Set3\")\n",
    "sns.boxplot(x='trending_month', y='views', data=df_two, hue='channel_title')"
   ]
  },
  {
   "cell_type": "code",
   "execution_count": null,
   "id": "b2086d28",
   "metadata": {
    "scrolled": false
   },
   "outputs": [],
   "source": [
    "sns.set_palette(\"Set1\")\n",
    "sns.boxplot(x='trending_month', y='views', data=df_two, hue='channel_title')"
   ]
  },
  {
   "cell_type": "markdown",
   "id": "f0a6a87f",
   "metadata": {},
   "source": [
    "The colour palette can also be specified in the plot function call using ``palette=``. This accepts either the name of the palette, a palette object, or a list of colours.\n",
    "\n",
    "It seems that Seaborn will change the behaviour of ``palette=`` in a future version. It will require `hue=` to be specified as well. See the FutureWarning below and the official advised way to work around this."
   ]
  },
  {
   "cell_type": "code",
   "execution_count": null,
   "id": "a95a39f5",
   "metadata": {
    "scrolled": false
   },
   "outputs": [],
   "source": [
    "sns.boxplot(x='trending_month', y='views', data=df_nba, palette='hls')"
   ]
  },
  {
   "cell_type": "code",
   "execution_count": null,
   "id": "8bf0a724",
   "metadata": {
    "scrolled": false
   },
   "outputs": [],
   "source": [
    "sns.boxplot(x='trending_month', y='views', data=df_nba, palette='hls', hue='trending_month', legend=False)"
   ]
  },
  {
   "cell_type": "markdown",
   "id": "5b91b50f",
   "metadata": {},
   "source": [
    "Instead of using a palette, a list of specific colours can be used instead. The colours can be specified by name or by using RGB values."
   ]
  },
  {
   "cell_type": "code",
   "execution_count": null,
   "id": "231d51da",
   "metadata": {
    "scrolled": false
   },
   "outputs": [],
   "source": [
    "colours = ['red', 'blue', 'orange', '#880088']\n",
    "\n",
    "sns.boxplot(x='trending_month', y='views', data=df_nba, palette=colours, hue='trending_month', legend=False)"
   ]
  },
  {
   "cell_type": "markdown",
   "id": "7ba0beac",
   "metadata": {},
   "source": [
    "All of the plots in this notebook accept the ``palette=`` parameter."
   ]
  },
  {
   "cell_type": "markdown",
   "id": "3af0981a",
   "metadata": {},
   "source": [
    "There is a much deeper conversation around colour -- it is vitally imporant to your visualization, after all. In a future lecture, we will discuss colour in more detail, examining the structure of colours, colour systems, sensible colour choices, and more."
   ]
  },
  {
   "cell_type": "markdown",
   "id": "c7ae7720",
   "metadata": {},
   "source": [
    "# Summary"
   ]
  },
  {
   "cell_type": "markdown",
   "id": "9c1d5bae",
   "metadata": {},
   "source": [
    "Seaborn offers many easy to use functions to create nice looking plots. Most functions use the same syntax, with ``x=``, ``y=``, ``data=``, ``hue=`` and ``palette=``.\n",
    "\n",
    "There are a number of built-in options to customize the visual look of your plot. And, if needed, they can be further customized using Matplotlib."
   ]
  }
 ],
 "metadata": {
  "kernelspec": {
   "display_name": "Python 3 (ipykernel)",
   "language": "python",
   "name": "python3"
  },
  "language_info": {
   "codemirror_mode": {
    "name": "ipython",
    "version": 3
   },
   "file_extension": ".py",
   "mimetype": "text/x-python",
   "name": "python",
   "nbconvert_exporter": "python",
   "pygments_lexer": "ipython3",
   "version": "3.11.2"
  }
 },
 "nbformat": 4,
 "nbformat_minor": 5
}
