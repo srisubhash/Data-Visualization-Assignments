{
 "cells": [
  {
   "cell_type": "markdown",
   "id": "e2676dc2",
   "metadata": {},
   "source": [
    "# Assignment 6"
   ]
  },
  {
   "cell_type": "code",
   "execution_count": null,
   "id": "1cd2403a",
   "metadata": {},
   "outputs": [],
   "source": [
    "Submitted by\n",
    "Sri Subhash Penneru\n",
    "student id - 202292880\n",
    "email - sspenneru@mun.ca"
   ]
  },
  {
   "cell_type": "code",
   "execution_count": 1,
   "id": "bea7022b",
   "metadata": {},
   "outputs": [
    {
     "data": {
      "application/vnd.jupyter.widget-view+json": {
       "model_id": "4f85891ec1b94eebaca9d7cc17fe422e",
       "version_major": 2,
       "version_minor": 0
      },
      "text/plain": [
       "interactive(children=(Dropdown(description='Type:', options=('All', 'natural', 'lab'), value='All'), Output())…"
      ]
     },
     "execution_count": 1,
     "metadata": {},
     "output_type": "execute_result"
    }
   ],
   "source": [
    "# 1\n",
    "\n",
    "import pandas as pd\n",
    "import seaborn as sns\n",
    "import matplotlib.pyplot as plt\n",
    "from ipywidgets import widgets\n",
    "from IPython.display import display\n",
    "\n",
    "# Load the dataset\n",
    "diamonds_df = pd.read_csv('diamonds.csv') \n",
    "\n",
    "# Define the correct order for 'colour' and 'clarity'\n",
    "colour_order = ['D','E','F','G','H','I','J'] \n",
    "clarity_order = ['SI2', 'SI1', 'VS2', 'VS1', 'VVS2', 'VVS1', 'IF']  \n",
    "\n",
    "# Convert 'colour' and 'clarity' to categorical types with the specified order\n",
    "diamonds_df['colour'] = pd.Categorical(diamonds_df['colour'], categories=colour_order, ordered=True)\n",
    "diamonds_df['clarity'] = pd.Categorical(diamonds_df['clarity'], categories=clarity_order, ordered=True)\n",
    "\n",
    "# Function to create the heatmap\n",
    "def create_heatmap(diamond_type):\n",
    "    if diamond_type != 'All':\n",
    "        df_filtered = diamonds_df[diamonds_df['type'] == diamond_type]\n",
    "    else:\n",
    "        df_filtered = diamonds_df\n",
    "\n",
    "    # Pivot table to find the average carat weight for each colour and clarity\n",
    "    pivot_table = df_filtered.pivot_table(values='carat', index='colour', columns='clarity', aggfunc='mean')\n",
    "    \n",
    "    # Plotting the heatmap\n",
    "    plt.figure(figsize=(12, 8))\n",
    "    sns.heatmap(pivot_table, annot=False, cmap='mako', cbar_kws={'label': 'Average Carat Weight'})\n",
    "    plt.xlabel('Clarity')\n",
    "    plt.ylabel('Colour')\n",
    "    plt.show()\n",
    "\n",
    "# widget for the interactive control\n",
    "dropdown_type = widgets.Dropdown(\n",
    "    options=['All', 'natural', 'lab'],\n",
    "    value='All',\n",
    "    description='Type:',\n",
    "    disabled=False,\n",
    ")\n",
    "\n",
    "# Interactive widget to update the heatmap based on the dropdown selection\n",
    "widgets.interactive(create_heatmap, diamond_type=dropdown_type)\n"
   ]
  },
  {
   "cell_type": "code",
   "execution_count": 6,
   "id": "96c67f48",
   "metadata": {},
   "outputs": [
    {
     "data": {
      "application/vnd.jupyter.widget-view+json": {
       "model_id": "f08258c6bbbd4793897101a4c0ca9a39",
       "version_major": 2,
       "version_minor": 0
      },
      "text/plain": [
       "interactive(children=(Dropdown(description='Sport:', index=3, options=('Swimming', 'Wrestling', 'Fencing', 'At…"
      ]
     },
     "metadata": {},
     "output_type": "display_data"
    }
   ],
   "source": [
    "#2\n",
    "\n",
    "import pandas as pd\n",
    "import seaborn as sns\n",
    "import matplotlib.pyplot as plt\n",
    "import numpy as np\n",
    "import ipywidgets as widgets\n",
    "from IPython.display import display\n",
    "\n",
    "\n",
    "# Load the dataset \n",
    "olympic_athletes_df = pd.read_csv('olympic_athletes.csv')\n",
    "\n",
    "# Filter the data for gold-medal winning athletes from the years 2000 to 2016\n",
    "gold_medalists = olympic_athletes_df[(olympic_athletes_df['Medal'] == 'Gold') &\n",
    "                                     (olympic_athletes_df['Year'] >= 2000) &\n",
    "                                     (olympic_athletes_df['Year'] <= 2016)]\n",
    "# Define the sports categories\n",
    "sports_categories = ['Swimming', 'Wrestling', 'Fencing', 'Athletics', 'Shooting',\n",
    "                     'Cycling', 'Rowing', 'Gymnastics', 'Combined']\n",
    "\n",
    "# Function to update the visualization based on the selections\n",
    "def update_visualization(sport, kde, display_data):\n",
    "    plt.figure(figsize=(9, 6))\n",
    "    \n",
    "    # Filter based on the sport\n",
    "    if sport != 'Combined':\n",
    "        df = gold_medalists[gold_medalists['Sport'] == sport]\n",
    "    else:\n",
    "        df = gold_medalists[gold_medalists['Sport'].isin(sports_categories[:-1])]\n",
    "    \n",
    "    # Generate plots based on user selections\n",
    "    if kde:\n",
    "        sns.kdeplot(data=df, x='Weight', y='Height', fill=True, color='blue', cmap=\"Blues\")\n",
    "    else:\n",
    "        plt.hist2d(df['Weight'], df['Height'], bins=[np.arange(20, 145, 5), np.arange(130, 225, 5)], cmap=\"Blues\")\n",
    "\n",
    "    # Display scatter plot if display_data is True\n",
    "    if display_data:\n",
    "        scatter = sns.scatterplot(data=df, x='Weight', y='Height', hue='Sex', palette=['blue', 'orange'])\n",
    "        plt.legend(title='Sex')\n",
    "    else:\n",
    "        plt.gca().legend_ = None \n",
    "    \n",
    "    # Set plot limits and labels\n",
    "    plt.xlim(20, 140)\n",
    "    plt.ylim(130, 220)\n",
    "    plt.xlabel('Weight')\n",
    "    plt.ylabel('Height')\n",
    "    plt.show()\n",
    "\n",
    "# Widgets for the interactive components\n",
    "sport_dropdown = widgets.Dropdown(options=sports_categories, value='Athletics', description='Sport:')\n",
    "kde_checkbox = widgets.Checkbox(value=False, description='kde')\n",
    "display_data_checkbox = widgets.Checkbox(value=False, description='display_data')\n",
    "\n",
    "# Interactive widget function that links the widgets to the visualization function\n",
    "interactive_widget = widgets.interactive(update_visualization, sport=sport_dropdown, kde=kde_checkbox, display_data=display_data_checkbox)\n",
    "\n",
    "# Display the widgets\n",
    "display(interactive_widget)\n",
    "\n"
   ]
  },
  {
   "cell_type": "code",
   "execution_count": 16,
   "id": "3eae4e2a",
   "metadata": {},
   "outputs": [
    {
     "data": {
      "application/vnd.jupyter.widget-view+json": {
       "model_id": "b879f4f63cc94ddcb435b304cac75fc4",
       "version_major": 2,
       "version_minor": 0
      },
      "text/plain": [
       "interactive(children=(Dropdown(description='Year:', options=(1970, 1996, 1997, 1998, 1999, 2000, 2001, 2002, 2…"
      ]
     },
     "metadata": {},
     "output_type": "display_data"
    }
   ],
   "source": [
    "import pandas as pd\n",
    "import seaborn as sns\n",
    "import matplotlib.pyplot as plt\n",
    "import ipywidgets as widgets\n",
    "from IPython.display import display\n",
    "\n",
    "# Load the dataset\n",
    "used_cars_df = pd.read_csv('used_cars.csv')\n",
    "\n",
    "# Create the widgets\n",
    "year_dropdown = widgets.Dropdown(options=sorted(used_cars_df['year'].unique()), description='Year:')\n",
    "brand_dropdown = widgets.Dropdown(description='Brand:')\n",
    "model_select = widgets.SelectMultiple(description='Model', options=[])\n",
    "\n",
    "# Update functions\n",
    "def update_brand_options(change):\n",
    "    selected_year = change['new']\n",
    "    brands = used_cars_df[used_cars_df['year'] == selected_year]['brand'].dropna().unique()\n",
    "    brand_dropdown.options = sorted(brands)\n",
    "    brand_dropdown.value = None\n",
    "    model_select.options = []\n",
    "\n",
    "def update_model_options(change):\n",
    "    selected_year = year_dropdown.value\n",
    "    selected_brand = change['new']\n",
    "    if selected_brand:\n",
    "        models = used_cars_df[(used_cars_df['year'] == selected_year) & (used_cars_df['brand'] == selected_brand)]['model'].dropna().unique()\n",
    "        model_select.options = sorted(models)\n",
    "    else:\n",
    "        model_select.options = []\n",
    "\n",
    "# Attach the update functions to the dropdowns\n",
    "year_dropdown.observe(update_brand_options, names='value')\n",
    "brand_dropdown.observe(update_model_options, names='value')\n",
    "\n",
    "# Call the update function to populate brand dropdown initially\n",
    "update_brand_options({'new': year_dropdown.value})\n",
    "\n",
    "# Plot function\n",
    "def plot_data(year, brand, models):\n",
    "    if brand and models:\n",
    "        filtered_df = used_cars_df[(used_cars_df['year'] == year) & (used_cars_df['brand'] == brand) & (used_cars_df['model'].isin(models))]\n",
    "        if not filtered_df.empty:\n",
    "            plt.figure(figsize=(9, 6))\n",
    "            scatter = sns.scatterplot(data=filtered_df, x='price', y='mileage', hue='model', palette='deep')\n",
    "            scatter.legend(title='Model')\n",
    "            plt.title(f\"{year} {brand}\")\n",
    "            plt.xlabel('Price')\n",
    "            plt.ylabel('Mileage')\n",
    "            plt.show()\n",
    "        else:\n",
    "            print(\"No data to display for the selected criteria.\")\n",
    "    else:\n",
    "        print(\"Please select at least one brand and one model.\")\n",
    "\n",
    "# Create the interactive widget\n",
    "interactive_plot = widgets.interactive(plot_data, year=year_dropdown, brand=brand_dropdown, models=model_select)\n",
    "\n",
    "# Display the widgets\n",
    "display(interactive_plot)\n"
   ]
  }
 ],
 "metadata": {
  "kernelspec": {
   "display_name": "Python 3 (ipykernel)",
   "language": "python",
   "name": "python3"
  },
  "language_info": {
   "codemirror_mode": {
    "name": "ipython",
    "version": 3
   },
   "file_extension": ".py",
   "mimetype": "text/x-python",
   "name": "python",
   "nbconvert_exporter": "python",
   "pygments_lexer": "ipython3",
   "version": "3.11.8"
  }
 },
 "nbformat": 4,
 "nbformat_minor": 5
}
